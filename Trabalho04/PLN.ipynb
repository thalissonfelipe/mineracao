{
 "cells": [
  {
   "cell_type": "code",
   "execution_count": 1,
   "metadata": {},
   "outputs": [
    {
     "name": "stderr",
     "output_type": "stream",
     "text": [
      "[nltk_data] Downloading package stopwords to\n",
      "[nltk_data]     C:\\Users\\thali\\AppData\\Roaming\\nltk_data...\n",
      "[nltk_data]   Package stopwords is already up-to-date!\n"
     ]
    }
   ],
   "source": [
    "%matplotlib inline\n",
    "import re\n",
    "import nltk\n",
    "nltk.download('stopwords')\n",
    "import pandas as pd\n",
    "import seaborn as sns\n",
    "import matplotlib.pyplot as plt\n",
    "from nltk.corpus import stopwords\n",
    "from nltk.stem import PorterStemmer\n",
    "from sklearn.naive_bayes import MultinomialNB\n",
    "from sklearn.model_selection import train_test_split\n",
    "from sklearn.metrics import precision_score, confusion_matrix\n",
    "from sklearn.feature_extraction.text import CountVectorizer, TfidfVectorizer\n",
    "plt.rcParams['figure.figsize'] = (10, 6)"
   ]
  },
  {
   "cell_type": "markdown",
   "metadata": {},
   "source": [
    "## Equipe\n",
    "### Ícaro de Lima - 385194 <br> Thalisson Felipe - 390195"
   ]
  },
  {
   "cell_type": "markdown",
   "metadata": {},
   "source": [
    "# 1. Importar e separar o conjunto de dados fornecido em treinamento e teste"
   ]
  },
  {
   "cell_type": "code",
   "execution_count": 2,
   "metadata": {},
   "outputs": [
    {
     "data": {
      "text/html": [
       "<div>\n",
       "<style scoped>\n",
       "    .dataframe tbody tr th:only-of-type {\n",
       "        vertical-align: middle;\n",
       "    }\n",
       "\n",
       "    .dataframe tbody tr th {\n",
       "        vertical-align: top;\n",
       "    }\n",
       "\n",
       "    .dataframe thead th {\n",
       "        text-align: right;\n",
       "    }\n",
       "</style>\n",
       "<table border=\"1\" class=\"dataframe\">\n",
       "  <thead>\n",
       "    <tr style=\"text-align: right;\">\n",
       "      <th></th>\n",
       "      <th>Unnamed: 0</th>\n",
       "      <th>title</th>\n",
       "      <th>text</th>\n",
       "      <th>label</th>\n",
       "    </tr>\n",
       "  </thead>\n",
       "  <tbody>\n",
       "    <tr>\n",
       "      <th>0</th>\n",
       "      <td>8476</td>\n",
       "      <td>You Can Smell Hillary’s Fear</td>\n",
       "      <td>Daniel Greenfield, a Shillman Journalism Fello...</td>\n",
       "      <td>FAKE</td>\n",
       "    </tr>\n",
       "    <tr>\n",
       "      <th>1</th>\n",
       "      <td>10294</td>\n",
       "      <td>Watch The Exact Moment Paul Ryan Committed Pol...</td>\n",
       "      <td>Google Pinterest Digg Linkedin Reddit Stumbleu...</td>\n",
       "      <td>FAKE</td>\n",
       "    </tr>\n",
       "    <tr>\n",
       "      <th>2</th>\n",
       "      <td>3608</td>\n",
       "      <td>Kerry to go to Paris in gesture of sympathy</td>\n",
       "      <td>U.S. Secretary of State John F. Kerry said Mon...</td>\n",
       "      <td>REAL</td>\n",
       "    </tr>\n",
       "    <tr>\n",
       "      <th>3</th>\n",
       "      <td>10142</td>\n",
       "      <td>Bernie supporters on Twitter erupt in anger ag...</td>\n",
       "      <td>— Kaydee King (@KaydeeKing) November 9, 2016 T...</td>\n",
       "      <td>FAKE</td>\n",
       "    </tr>\n",
       "    <tr>\n",
       "      <th>4</th>\n",
       "      <td>875</td>\n",
       "      <td>The Battle of New York: Why This Primary Matters</td>\n",
       "      <td>It's primary day in New York and front-runners...</td>\n",
       "      <td>REAL</td>\n",
       "    </tr>\n",
       "    <tr>\n",
       "      <th>...</th>\n",
       "      <td>...</td>\n",
       "      <td>...</td>\n",
       "      <td>...</td>\n",
       "      <td>...</td>\n",
       "    </tr>\n",
       "    <tr>\n",
       "      <th>6330</th>\n",
       "      <td>4490</td>\n",
       "      <td>State Department says it can't find emails fro...</td>\n",
       "      <td>The State Department told the Republican Natio...</td>\n",
       "      <td>REAL</td>\n",
       "    </tr>\n",
       "    <tr>\n",
       "      <th>6331</th>\n",
       "      <td>8062</td>\n",
       "      <td>The ‘P’ in PBS Should Stand for ‘Plutocratic’ ...</td>\n",
       "      <td>The ‘P’ in PBS Should Stand for ‘Plutocratic’ ...</td>\n",
       "      <td>FAKE</td>\n",
       "    </tr>\n",
       "    <tr>\n",
       "      <th>6332</th>\n",
       "      <td>8622</td>\n",
       "      <td>Anti-Trump Protesters Are Tools of the Oligarc...</td>\n",
       "      <td>Anti-Trump Protesters Are Tools of the Oligar...</td>\n",
       "      <td>FAKE</td>\n",
       "    </tr>\n",
       "    <tr>\n",
       "      <th>6333</th>\n",
       "      <td>4021</td>\n",
       "      <td>In Ethiopia, Obama seeks progress on peace, se...</td>\n",
       "      <td>ADDIS ABABA, Ethiopia —President Obama convene...</td>\n",
       "      <td>REAL</td>\n",
       "    </tr>\n",
       "    <tr>\n",
       "      <th>6334</th>\n",
       "      <td>4330</td>\n",
       "      <td>Jeb Bush Is Suddenly Attacking Trump. Here's W...</td>\n",
       "      <td>Jeb Bush Is Suddenly Attacking Trump. Here's W...</td>\n",
       "      <td>REAL</td>\n",
       "    </tr>\n",
       "  </tbody>\n",
       "</table>\n",
       "<p>6335 rows × 4 columns</p>\n",
       "</div>"
      ],
      "text/plain": [
       "      Unnamed: 0                                              title  \\\n",
       "0           8476                       You Can Smell Hillary’s Fear   \n",
       "1          10294  Watch The Exact Moment Paul Ryan Committed Pol...   \n",
       "2           3608        Kerry to go to Paris in gesture of sympathy   \n",
       "3          10142  Bernie supporters on Twitter erupt in anger ag...   \n",
       "4            875   The Battle of New York: Why This Primary Matters   \n",
       "...          ...                                                ...   \n",
       "6330        4490  State Department says it can't find emails fro...   \n",
       "6331        8062  The ‘P’ in PBS Should Stand for ‘Plutocratic’ ...   \n",
       "6332        8622  Anti-Trump Protesters Are Tools of the Oligarc...   \n",
       "6333        4021  In Ethiopia, Obama seeks progress on peace, se...   \n",
       "6334        4330  Jeb Bush Is Suddenly Attacking Trump. Here's W...   \n",
       "\n",
       "                                                   text label  \n",
       "0     Daniel Greenfield, a Shillman Journalism Fello...  FAKE  \n",
       "1     Google Pinterest Digg Linkedin Reddit Stumbleu...  FAKE  \n",
       "2     U.S. Secretary of State John F. Kerry said Mon...  REAL  \n",
       "3     — Kaydee King (@KaydeeKing) November 9, 2016 T...  FAKE  \n",
       "4     It's primary day in New York and front-runners...  REAL  \n",
       "...                                                 ...   ...  \n",
       "6330  The State Department told the Republican Natio...  REAL  \n",
       "6331  The ‘P’ in PBS Should Stand for ‘Plutocratic’ ...  FAKE  \n",
       "6332   Anti-Trump Protesters Are Tools of the Oligar...  FAKE  \n",
       "6333  ADDIS ABABA, Ethiopia —President Obama convene...  REAL  \n",
       "6334  Jeb Bush Is Suddenly Attacking Trump. Here's W...  REAL  \n",
       "\n",
       "[6335 rows x 4 columns]"
      ]
     },
     "execution_count": 2,
     "metadata": {},
     "output_type": "execute_result"
    }
   ],
   "source": [
    "df = pd.read_csv('noticias.csv')\n",
    "df"
   ]
  },
  {
   "cell_type": "markdown",
   "metadata": {},
   "source": [
    "Nessa primeira parte após importamos o dataset, realizamos dois processamentos nos dados.\n",
    "- Criamos um nova variável X representando a concatenação das strings title e text do dataset. Por exemplo: You Can Smell Hillary’s Fear Daniel Greenfield, a Shillman Journalism Fello... seria o primeiro elemento de X.\n",
    "- Em segundo, substituímos os labels FAKE e REAL por uma representação binária 0 e 1, respectivamente."
   ]
  },
  {
   "cell_type": "code",
   "execution_count": 3,
   "metadata": {},
   "outputs": [],
   "source": [
    "X, y = (df['title'] +  ' ' + df['text']).values, df['label'].replace(['FAKE', 'REAL'], [0, 1]).values"
   ]
  },
  {
   "cell_type": "markdown",
   "metadata": {},
   "source": [
    "Nos passos 2 e 3 foi utilizado o CountVectorizer e o TfidfVectorizer com seus parâmetros default. Nesse caso, todas as strings são transformadas em lowercase e não é utilizado nenhum \"stopwords\". A codificação utilizada foi a utf-8."
   ]
  },
  {
   "cell_type": "markdown",
   "metadata": {},
   "source": [
    "# 2. Criar uma matriz vetorizada que represente os textos utilizando o CountVectorizer"
   ]
  },
  {
   "cell_type": "code",
   "execution_count": 4,
   "metadata": {},
   "outputs": [],
   "source": [
    "count_vectorizer = CountVectorizer()\n",
    "count_matrix = count_vectorizer.fit_transform(X)"
   ]
  },
  {
   "cell_type": "markdown",
   "metadata": {},
   "source": [
    "# 3. Criar uma matriz vetorizada que represente os textos utilizando o TfidfVectorizer"
   ]
  },
  {
   "cell_type": "code",
   "execution_count": 5,
   "metadata": {},
   "outputs": [],
   "source": [
    "tfidf_vectorizer = TfidfVectorizer()\n",
    "tfidf_matrix = tfidf_vectorizer.fit_transform(X)"
   ]
  },
  {
   "cell_type": "markdown",
   "metadata": {},
   "source": [
    "# 4. Criar dois modelos para classificar os textos utilizando o algoritmo Naive Bayes (multinomial) utilizando o CountVectorizer e o TfidfVectorizer"
   ]
  },
  {
   "cell_type": "markdown",
   "metadata": {},
   "source": [
    "Como proposto pelo trabalho, utilizamos o train_test_split do sklearn para separar nossos dados em dados de treino e dados de teste. A função fit_transfor utilizada acima retorna uma sparse , que são matrizes com muitos valores 0. Não transformamos a matriz para um numpy porque sparse matrix podem ser muito grandes e podem dá problemas relacionados a memória.\n",
    "\n",
    "Nos passos 4.1 e 4.2 criamos nossos dados de treino e de teste, utilizando um tamanho de 40% do dataset para os dados de teste. Em seguida, criamos o modelo e fitamos com os dados de treino."
   ]
  },
  {
   "cell_type": "markdown",
   "metadata": {},
   "source": [
    "## 4.1 Naive Bayes utilizando o CountVectorizer"
   ]
  },
  {
   "cell_type": "code",
   "execution_count": 6,
   "metadata": {},
   "outputs": [],
   "source": [
    "X_train1, X_test1, y_train1, y_test1 = train_test_split(count_matrix, y, test_size=0.4, random_state=42)\n",
    "clf1 = MultinomialNB().fit(X_train1, y_train1)"
   ]
  },
  {
   "cell_type": "markdown",
   "metadata": {},
   "source": [
    "## 4.2 Naive Bayes utilizando o TfidfVectorizer"
   ]
  },
  {
   "cell_type": "code",
   "execution_count": 7,
   "metadata": {},
   "outputs": [],
   "source": [
    "X_train2, X_test2, y_train2, y_test2 = train_test_split(tfidf_matrix, y, test_size=0.4, random_state=42)\n",
    "clf2 = MultinomialNB().fit(X_train2, y_train2)"
   ]
  },
  {
   "cell_type": "markdown",
   "metadata": {},
   "source": [
    "# 5. Comparar os resultados utilizando a precisão e a Matriz de Confusão"
   ]
  },
  {
   "cell_type": "code",
   "execution_count": 8,
   "metadata": {},
   "outputs": [],
   "source": [
    "def show_frequencies(confusion_matrix):\n",
    "    print('True Negatives (TN):', confusion_matrix[0][0])\n",
    "    print('False Negatives (FN):', confusion_matrix[1][0])\n",
    "    print('True Positives (TP):', confusion_matrix[1][1])\n",
    "    print('False Positives (FP):', confusion_matrix[0][1])"
   ]
  },
  {
   "cell_type": "markdown",
   "metadata": {},
   "source": [
    "A definição do sklearn de precisão é: a taxa tp / (tp + fp) onde tp é o númemro de true positives (verdadeiro positivos) e fp é o número de false positives (falso positivos). Verdadeiro positivo são itens rotulados corretamente como positivos e Falso positivo que são itens rotulados incorretamente como positivos.\n",
    "\n",
    "A matriz de confusão é uma tabela que mostra as frequências de classificação para cada classe. Acima já foram ditos duas frequências: **tp** e **fp**. Mas também existem outras duas: **tn** e **fn**. tn é o número de true negatives (verdadeiro negativos) que são itens rotulados corretamente como negativos e fn é o número de false negatives (falso negatios) que são itens rotulados incorretamente como negativos."
   ]
  },
  {
   "cell_type": "code",
   "execution_count": 9,
   "metadata": {},
   "outputs": [
    {
     "name": "stdout",
     "output_type": "stream",
     "text": [
      "True Negatives (TN): 1105\n",
      "False Negatives (FN): 180\n",
      "True Positives (TP): 1157\n",
      "False Positives (FP): 92\n"
     ]
    },
    {
     "data": {
      "image/png": "[encoded data removed]",
      "text/plain": [
       "<Figure size 720x432 with 2 Axes>"
      ]
     },
     "metadata": {
      "needs_background": "light"
     },
     "output_type": "display_data"
    }
   ],
   "source": [
    "y_pred1 = clf1.predict(X_test1)\n",
    "precision1 = precision_score(y_pred1, y_test1)\n",
    "cm1 = confusion_matrix(y_pred1, y_test1)\n",
    "show_frequencies(cm1)\n",
    "cm1_df = pd.DataFrame(cm1, index=['FAKE','REAL'], columns=['FAKE','REAL'])\n",
    "\n",
    "sns.heatmap(cm1_df, annot=True, fmt='d')\n",
    "plt.title('Matriz de confusão utilizando CountVectorizer\\nPrecisão: {0:.3f}'.format(precision1), fontsize=18)\n",
    "plt.ylabel('True label', fontsize=16)\n",
    "plt.xlabel('Predicted label', fontsize=16)\n",
    "plt.show()"
   ]
  },
  {
   "cell_type": "code",
   "execution_count": 10,
   "metadata": {},
   "outputs": [
    {
     "name": "stdout",
     "output_type": "stream",
     "text": [
      "True Negatives (TN): 672\n",
      "False Negatives (FN): 613\n",
      "True Positives (TP): 1244\n",
      "False Positives (FP): 5\n"
     ]
    },
    {
     "data": {
      "image/png": "[encoded data removed]",
      "text/plain": [
       "<Figure size 720x432 with 2 Axes>"
      ]
     },
     "metadata": {
      "needs_background": "light"
     },
     "output_type": "display_data"
    }
   ],
   "source": [
    "y_pred2 = clf2.predict(X_test2)\n",
    "precision2 = precision_score(y_pred2, y_test2)\n",
    "cm2 = confusion_matrix(y_pred2, y_test2)\n",
    "show_frequencies(cm2)\n",
    "cm2_df = pd.DataFrame(cm2, index=['FAKE','REAL'], columns=['FAKE','REAL'])\n",
    "\n",
    "sns.heatmap(cm2_df, annot=True, fmt='d')\n",
    "plt.title('Matriz de confusão utilizando TfidfVectorizer\\nPrecisão: {0:.3f}'.format(precision2), fontsize=18)\n",
    "plt.ylabel('True label', fontsize=16)\n",
    "plt.xlabel('Predicted label', fontsize=16)\n",
    "plt.show()"
   ]
  },
  {
   "cell_type": "markdown",
   "metadata": {},
   "source": [
    "Obtivemos quase 100% de precisão utilizando o TfidfVectorizer no nosso classificador. Porém esse cálculo leva em consideração somente os True Positives e os False Positives (precision = tp / (tp + fp)). Os false positivos foram só 5, por isso a precisão foi bem alta. Mas o modelo classificou 613 notícias como FAKE que na verdade era para serem classificadas como REAL.\n",
    "\n",
    "O CountVectorizer conta apenas o número de vezes que a palavra aparece no documento e isso pode resultar em um enviesamento em favor dessas palavras. Por esse motivo acaba ignorando palavras raras que poderiam ter ajudado no processamento dos dados de forma mais eficiente. O TfidfVectorizer considera o peso geral da sentença de uma palavra. Logo, as palavras que são mais frequentes são penalizadas. Ou seja, o TfidfVectorizer pondera as contagens de palavras usando a frquência com que essas palavras aparecem nas sentenças."
   ]
  },
  {
   "cell_type": "markdown",
   "metadata": {},
   "source": [
    "# 6. [BÔNUS] Propor passos adicionais para melhorar os resultados encontrados"
   ]
  },
  {
   "cell_type": "markdown",
   "metadata": {},
   "source": [
    "Os passos adicionais que utilizamos para melhorar os resultados foi realizar um melhor pré-processamentos nos dados. Para isso, utilizamos o nltk (um conjunto de bibliotecas e programas para processamento simbólico e estatístico da linguagem natural para inglês) e algumas técnicas para limpar nossos dados.\n",
    "\n",
    "Na célula abaixo definimos um conjunto com stopwords - palavras que não adicionam sentido ao texto, pois são usadas para coesão e dar contexto, mas não fazem sentido específico quando olhadas individualmente. Exemplos de stopwords: a, about, then, are... Também instanciamos a classe PorterStemmer do nltk - stemming ou stemização é o processo de reduzir palavras flexionadas a sua forma stem (base). Por exemplo:\n",
    "- likes\n",
    "- liked\n",
    "- likely\n",
    "- liking\n",
    "\n",
    "Todas essas palavras após o processo de stemming são transformadas na palavra \"like\" que é sua forma base."
   ]
  },
  {
   "cell_type": "code",
   "execution_count": 11,
   "metadata": {},
   "outputs": [],
   "source": [
    "stopwords_ = set(stopwords.words('english'))\n",
    "porter_stemmer = PorterStemmer()"
   ]
  },
  {
   "cell_type": "markdown",
   "metadata": {},
   "source": [
    "A função abaixo stemmer tem três objetivos:\n",
    "- Transforma cada palavra para lowercase\n",
    "- Verifica se a palavra pertence ao conjunto de stopwords_, ignora a palavra se pertencer.\n",
    "- Aplica o processo de stemização na palavra"
   ]
  },
  {
   "cell_type": "code",
   "execution_count": 12,
   "metadata": {},
   "outputs": [],
   "source": [
    "def stemmer(sentence, use_stopwords=False):\n",
    "    output = []\n",
    "    for word in sentence.split(' '):\n",
    "        word = word.lower()\n",
    "        if use_stopwords:\n",
    "            if word not in stopwords_:\n",
    "                output.append(porter_stemmer.stem(word))\n",
    "        else:\n",
    "            output.append(porter_stemmer.stem(word))\n",
    "\n",
    "    return ' '.join(output)"
   ]
  },
  {
   "cell_type": "markdown",
   "metadata": {},
   "source": [
    "A função preprocess tem três objetivos:\n",
    "- Chama a função stemmer para cada frase do conjunto de dados\n",
    "- Remove pontuações, caracteres especiais e números\n",
    "- Remove espaços duplicados caso existam"
   ]
  },
  {
   "cell_type": "code",
   "execution_count": 13,
   "metadata": {},
   "outputs": [],
   "source": [
    "def preprocess(X, use_stopwords=False):\n",
    "    X_processed = []\n",
    "    for string in X:\n",
    "        x_processed = stemmer(string, use_stopwords)\n",
    "        x_processed = re.sub('[^a-zA-Z]', ' ', x_processed)\n",
    "        x_processed = re.sub('(\\s+)', ' ', x_processed)\n",
    "        X_processed.append(x_processed)\n",
    "\n",
    "    return X_processed"
   ]
  },
  {
   "cell_type": "markdown",
   "metadata": {},
   "source": [
    "Todos os passos listados acima foram os pré-processamentos realizados no dataset. X_processed é produto disso e será usado como entrada para o CountVectorizer e o TfidfVectorizer."
   ]
  },
  {
   "cell_type": "markdown",
   "metadata": {},
   "source": [
    "## 6.1 Naive Bayes utilizando o CountVectorizer"
   ]
  },
  {
   "cell_type": "code",
   "execution_count": 14,
   "metadata": {},
   "outputs": [],
   "source": [
    "X_processed1 = preprocess(X, use_stopwords=True)"
   ]
  },
  {
   "cell_type": "code",
   "execution_count": 15,
   "metadata": {},
   "outputs": [],
   "source": [
    "new_count_vectorizer = CountVectorizer()\n",
    "new_count_matrix = new_count_vectorizer.fit_transform(X_processed1)"
   ]
  },
  {
   "cell_type": "code",
   "execution_count": 16,
   "metadata": {},
   "outputs": [
    {
     "data": {
      "text/plain": [
       "MultinomialNB()"
      ]
     },
     "execution_count": 16,
     "metadata": {},
     "output_type": "execute_result"
    }
   ],
   "source": [
    "X_train3, X_test3, y_train3, y_test3 = train_test_split(new_count_matrix, y, test_size=0.4, random_state=42)\n",
    "clf3 = MultinomialNB()\n",
    "clf3.fit(X_train3, y_train3)"
   ]
  },
  {
   "cell_type": "code",
   "execution_count": 17,
   "metadata": {},
   "outputs": [
    {
     "name": "stdout",
     "output_type": "stream",
     "text": [
      "True Negatives (TN): 1121\n",
      "False Negatives (FN): 164\n",
      "True Positives (TP): 1163\n",
      "False Positives (FP): 86\n"
     ]
    },
    {
     "data": {
      "image/png": "[encoded data removed]",
      "text/plain": [
       "<Figure size 720x432 with 2 Axes>"
      ]
     },
     "metadata": {
      "needs_background": "light"
     },
     "output_type": "display_data"
    }
   ],
   "source": [
    "y_pred3 = clf3.predict(X_test3)\n",
    "precision3 = precision_score(y_pred3, y_test3)\n",
    "cm3 = confusion_matrix(y_pred3, y_test3)\n",
    "show_frequencies(cm3)\n",
    "cm3_df = pd.DataFrame(cm3, index=['FAKE','REAL'], columns=['FAKE','REAL'])\n",
    "\n",
    "sns.heatmap(cm3_df, annot=True, fmt='d')\n",
    "plt.title('Matriz de confusão utilizando CountVectorizer\\nPrecisão: {0:.3f}'.format(precision3), fontsize=18)\n",
    "plt.ylabel('True label', fontsize=16)\n",
    "plt.xlabel('Predicted label', fontsize=16)\n",
    "plt.show()"
   ]
  },
  {
   "cell_type": "markdown",
   "metadata": {},
   "source": [
    "Podemos ver que com esses processamentos obtivemos um resultado de precisão um pouco melhor utilizando o CountVectorizer. Uma mudança de 0.926 para 0.931."
   ]
  },
  {
   "cell_type": "markdown",
   "metadata": {},
   "source": [
    "## 6.2 Naive Bayes utilizando o TfidfVectorizer"
   ]
  },
  {
   "cell_type": "markdown",
   "metadata": {},
   "source": [
    "Para o TfidfVectorizer, não utilizamos as stopwords porque obtivemos um pior resultado. Sem as stopwords, obtivemos um aumento de 1% na precisão."
   ]
  },
  {
   "cell_type": "code",
   "execution_count": 18,
   "metadata": {},
   "outputs": [],
   "source": [
    "X_processed2 = preprocess(X)"
   ]
  },
  {
   "cell_type": "code",
   "execution_count": 19,
   "metadata": {},
   "outputs": [],
   "source": [
    "new_tfidf_vectorizer = TfidfVectorizer()\n",
    "new_tfidf_matrix = new_tfidf_vectorizer.fit_transform(X_processed2)"
   ]
  },
  {
   "cell_type": "code",
   "execution_count": 20,
   "metadata": {},
   "outputs": [
    {
     "data": {
      "text/plain": [
       "MultinomialNB()"
      ]
     },
     "execution_count": 20,
     "metadata": {},
     "output_type": "execute_result"
    }
   ],
   "source": [
    "X_train4, X_test4, y_train4, y_test4 = train_test_split(new_tfidf_matrix, y, test_size=0.4, random_state=0)\n",
    "clf4 = MultinomialNB()\n",
    "clf4.fit(X_train4, y_train4)"
   ]
  },
  {
   "cell_type": "code",
   "execution_count": 21,
   "metadata": {},
   "outputs": [
    {
     "name": "stdout",
     "output_type": "stream",
     "text": [
      "True Negatives (TN): 662\n",
      "False Negatives (FN): 605\n",
      "True Positives (TP): 1263\n",
      "False Positives (FP): 4\n"
     ]
    },
    {
     "data": {
      "image/png": "[encoded data removed]",
      "text/plain": [
       "<Figure size 720x432 with 2 Axes>"
      ]
     },
     "metadata": {
      "needs_background": "light"
     },
     "output_type": "display_data"
    }
   ],
   "source": [
    "y_pred4 = clf4.predict(X_test4)\n",
    "precision4 = precision_score(y_pred4, y_test4)\n",
    "cm4 = confusion_matrix(y_pred4, y_test4)\n",
    "show_frequencies(cm4)\n",
    "cm4_df = pd.DataFrame(cm4, index=['FAKE','REAL'], columns=['FAKE','REAL'])\n",
    "\n",
    "sns.heatmap(cm4_df, annot=True, fmt='d')\n",
    "plt.title('Matriz de confusão utilizando TfidfVectorizer\\nPrecisão: {0:.3f}'.format(precision4), fontsize=18)\n",
    "plt.ylabel('True label', fontsize=16)\n",
    "plt.xlabel('Predicted label', fontsize=16)\n",
    "plt.show()"
   ]
  },
  {
   "cell_type": "markdown",
   "metadata": {},
   "source": [
    "Podemos ver que com esses processamentos obtivemos um resultado de precisão um pouco melhor utilizando o TfidfVectorizer. Uma mudança de 0.996 para 0.997."
   ]
  },
  {
   "cell_type": "markdown",
   "metadata": {},
   "source": [
    "# Conslusão"
   ]
  },
  {
   "cell_type": "code",
   "execution_count": null,
   "metadata": {},
   "outputs": [],
   "source": []
  }
 ],
 "metadata": {
  "kernelspec": {
   "display_name": "Python 3",
   "language": "python",
   "name": "python3"
  },
  "language_info": {
   "codemirror_mode": {
    "name": "ipython",
    "version": 3
   },
   "file_extension": ".py",
   "mimetype": "text/x-python",
   "name": "python",
   "nbconvert_exporter": "python",
   "pygments_lexer": "ipython3",
   "version": "3.7.7"
  }
 },
 "nbformat": 4,
 "nbformat_minor": 4
}
