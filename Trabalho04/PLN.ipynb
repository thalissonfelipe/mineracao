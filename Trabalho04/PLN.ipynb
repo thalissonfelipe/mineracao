{
 "cells": [
  {
   "cell_type": "code",
   "execution_count": 1,
   "metadata": {},
   "outputs": [],
   "source": [
    "import re\n",
    "import pandas as pd\n",
    "import seaborn as sns\n",
    "import matplotlib.pyplot as plt\n",
    "from sklearn.naive_bayes import MultinomialNB\n",
    "from sklearn.model_selection import train_test_split\n",
    "from sklearn.metrics import accuracy_score, confusion_matrix\n",
    "from sklearn.feature_extraction.text import CountVectorizer, TfidfVectorizer"
   ]
  },
  {
   "cell_type": "markdown",
   "metadata": {},
   "source": [
    "## Equipe\n",
    "### Ícaro de Lima - 385194 <br> Thalisson Felipe - 390195"
   ]
  },
  {
   "cell_type": "markdown",
   "metadata": {},
   "source": [
    "# 1. Importar e separar o conjunto de dados fornecido em treinamento e teste"
   ]
  },
  {
   "cell_type": "code",
   "execution_count": 38,
   "metadata": {},
   "outputs": [
    {
     "data": {
      "text/html": [
       "<div>\n",
       "<style scoped>\n",
       "    .dataframe tbody tr th:only-of-type {\n",
       "        vertical-align: middle;\n",
       "    }\n",
       "\n",
       "    .dataframe tbody tr th {\n",
       "        vertical-align: top;\n",
       "    }\n",
       "\n",
       "    .dataframe thead th {\n",
       "        text-align: right;\n",
       "    }\n",
       "</style>\n",
       "<table border=\"1\" class=\"dataframe\">\n",
       "  <thead>\n",
       "    <tr style=\"text-align: right;\">\n",
       "      <th></th>\n",
       "      <th>Unnamed: 0</th>\n",
       "      <th>title</th>\n",
       "      <th>text</th>\n",
       "      <th>label</th>\n",
       "    </tr>\n",
       "  </thead>\n",
       "  <tbody>\n",
       "    <tr>\n",
       "      <th>0</th>\n",
       "      <td>8476</td>\n",
       "      <td>You Can Smell Hillary’s Fear</td>\n",
       "      <td>Daniel Greenfield, a Shillman Journalism Fello...</td>\n",
       "      <td>FAKE</td>\n",
       "    </tr>\n",
       "    <tr>\n",
       "      <th>1</th>\n",
       "      <td>10294</td>\n",
       "      <td>Watch The Exact Moment Paul Ryan Committed Pol...</td>\n",
       "      <td>Google Pinterest Digg Linkedin Reddit Stumbleu...</td>\n",
       "      <td>FAKE</td>\n",
       "    </tr>\n",
       "    <tr>\n",
       "      <th>2</th>\n",
       "      <td>3608</td>\n",
       "      <td>Kerry to go to Paris in gesture of sympathy</td>\n",
       "      <td>U.S. Secretary of State John F. Kerry said Mon...</td>\n",
       "      <td>REAL</td>\n",
       "    </tr>\n",
       "    <tr>\n",
       "      <th>3</th>\n",
       "      <td>10142</td>\n",
       "      <td>Bernie supporters on Twitter erupt in anger ag...</td>\n",
       "      <td>— Kaydee King (@KaydeeKing) November 9, 2016 T...</td>\n",
       "      <td>FAKE</td>\n",
       "    </tr>\n",
       "    <tr>\n",
       "      <th>4</th>\n",
       "      <td>875</td>\n",
       "      <td>The Battle of New York: Why This Primary Matters</td>\n",
       "      <td>It's primary day in New York and front-runners...</td>\n",
       "      <td>REAL</td>\n",
       "    </tr>\n",
       "  </tbody>\n",
       "</table>\n",
       "</div>"
      ],
      "text/plain": [
       "   Unnamed: 0                                              title  \\\n",
       "0        8476                       You Can Smell Hillary’s Fear   \n",
       "1       10294  Watch The Exact Moment Paul Ryan Committed Pol...   \n",
       "2        3608        Kerry to go to Paris in gesture of sympathy   \n",
       "3       10142  Bernie supporters on Twitter erupt in anger ag...   \n",
       "4         875   The Battle of New York: Why This Primary Matters   \n",
       "\n",
       "                                                text label  \n",
       "0  Daniel Greenfield, a Shillman Journalism Fello...  FAKE  \n",
       "1  Google Pinterest Digg Linkedin Reddit Stumbleu...  FAKE  \n",
       "2  U.S. Secretary of State John F. Kerry said Mon...  REAL  \n",
       "3  — Kaydee King (@KaydeeKing) November 9, 2016 T...  FAKE  \n",
       "4  It's primary day in New York and front-runners...  REAL  "
      ]
     },
     "execution_count": 38,
     "metadata": {},
     "output_type": "execute_result"
    }
   ],
   "source": [
    "df = pd.read_csv('noticias.csv')\n",
    "df.head()"
   ]
  },
  {
   "cell_type": "markdown",
   "metadata": {},
   "source": [
    "Nessa primeira parte após importamos o dataset, realizamos um pre-processamento \"simples\" nos dados. Criamos um nova variável X representando a concatenação das strings title e text. Por exemplo: You Can Smell Hillary’s Fear Daniel Greenfield, a Shillman Journalism Fello... seria o primeiro elemento de X. E segundo representaos os labels FAKE e REAL em uma representação binária 0 e 1, respectivamente."
   ]
  },
  {
   "cell_type": "code",
   "execution_count": 39,
   "metadata": {},
   "outputs": [],
   "source": [
    "X, y = (df['title'] +  ' ' + df['text']).values, df['label'].replace(['FAKE', 'REAL'], [0, 1]).values"
   ]
  },
  {
   "cell_type": "markdown",
   "metadata": {},
   "source": [
    "# 2. Criar uma matriz vetorizada que represente os textos utilizando o CountVectorizer"
   ]
  },
  {
   "cell_type": "code",
   "execution_count": 4,
   "metadata": {},
   "outputs": [],
   "source": [
    "count_vectorizer = CountVectorizer()\n",
    "count_matrix = count_vectorizer.fit_transform(X)\n",
    "count_vectorizer_X = count_matrix.toarray() # matriz vetorizada"
   ]
  },
  {
   "cell_type": "markdown",
   "metadata": {},
   "source": [
    "# 3. Criar uma matriz vetorizada que represente os textos utilizando o TfidfVectorizer"
   ]
  },
  {
   "cell_type": "code",
   "execution_count": 5,
   "metadata": {},
   "outputs": [],
   "source": [
    "tfidf_vectorizer = TfidfVectorizer()\n",
    "tfidf_matrix = tfidf_vectorizer.fit_transform(X)\n",
    "tfidf_vectorizer_X = tfidf_matrix.toarray() # matriz vetorizada"
   ]
  },
  {
   "cell_type": "markdown",
   "metadata": {},
   "source": [
    "# 4. Criar dois modelos para classificar os textos utilizando o algoritmo Naive Bayes (multinomial) utilizando o CountVectorizer e o TfidfVectorizer"
   ]
  },
  {
   "cell_type": "markdown",
   "metadata": {},
   "source": [
    "## 4.1 Naive Bayes utilizando o CountVectorizer"
   ]
  },
  {
   "cell_type": "code",
   "execution_count": 10,
   "metadata": {},
   "outputs": [],
   "source": [
    "X_train1, X_test1, y_train1, y_test1 = train_test_split(count_vectorizer_X, y, test_size=0.4, random_state=42)\n",
    "clf1 = MultinomialNB().fit(X_train1, y_train1)"
   ]
  },
  {
   "cell_type": "markdown",
   "metadata": {},
   "source": [
    "## 4.2 Naive Bayes utilizando o TfidfVectorizer"
   ]
  },
  {
   "cell_type": "code",
   "execution_count": 11,
   "metadata": {},
   "outputs": [],
   "source": [
    "X_train2, X_test2, y_train2, y_test2 = train_test_split(tfidf_vectorizer_X, y, test_size=0.4, random_state=42)\n",
    "clf2 = MultinomialNB().fit(X_train2, y_train2)"
   ]
  },
  {
   "cell_type": "markdown",
   "metadata": {},
   "source": [
    "# 5. Comparar os resultados utilizando a precisão e a Matriz de Confusão"
   ]
  },
  {
   "cell_type": "code",
   "execution_count": 8,
   "metadata": {},
   "outputs": [
    {
     "name": "stdout",
     "output_type": "stream",
     "text": [
      "Acurácia utilizando CountVectorizer:  0.8904830224772836\n"
     ]
    },
    {
     "data": {
      "image/png": "[encoded data removed]",
      "text/plain": [
       "<Figure size 432x288 with 2 Axes>"
      ]
     },
     "metadata": {
      "needs_background": "light"
     },
     "output_type": "display_data"
    }
   ],
   "source": [
    "y_pred1 = clf1.predict(X_test1)\n",
    "accuracy1 = accuracy_score(y_pred1, y_test1)\n",
    "cm1 = confusion_matrix(y_pred1, y_test1)\n",
    "\n",
    "print('Acurácia utilizando CountVectorizer: ', accuracy1)\n",
    "\n",
    "ax= plt.subplot()\n",
    "sns.heatmap(cm1, annot=True, ax=ax, fmt='g')\n",
    "ax.set_xlabel('Labels preditos')\n",
    "ax.set_ylabel('Labels verdadeiros')\n",
    "ax.set_title('Matriz de confusão utilizando CountVectorizer')\n",
    "ax.xaxis.set_ticklabels(['FAKE', 'REAL'])\n",
    "ax.yaxis.set_ticklabels(['REAL', 'FAKE'])\n",
    "plt.show()"
   ]
  },
  {
   "cell_type": "code",
   "execution_count": 9,
   "metadata": {},
   "outputs": [
    {
     "name": "stdout",
     "output_type": "stream",
     "text": [
      "Acurácia utilizando TfidfVectorizer:  0.7699665231946438\n"
     ]
    },
    {
     "data": {
      "image/png": "[encoded data removed]",
      "text/plain": [
       "<Figure size 432x288 with 2 Axes>"
      ]
     },
     "metadata": {
      "needs_background": "light"
     },
     "output_type": "display_data"
    }
   ],
   "source": [
    "y_pred2 = clf2.predict(X_test2)\n",
    "accuracy2 = accuracy_score(y_pred2, y_test2)\n",
    "cm2 = confusion_matrix(y_pred2, y_test2)\n",
    "\n",
    "print('Acurácia utilizando TfidfVectorizer: ', accuracy2)\n",
    "\n",
    "ax= plt.subplot()\n",
    "sns.heatmap(cm2, annot=True, ax=ax, fmt='g')\n",
    "ax.set_xlabel('Labels preditos')\n",
    "ax.set_ylabel('Labels verdadeiros')\n",
    "ax.set_title('Matriz de confusão utilizando TfidfVectorizer')\n",
    "ax.xaxis.set_ticklabels(['FAKE', 'REAL'])\n",
    "ax.yaxis.set_ticklabels(['REAL', 'FAKE'])\n",
    "plt.show()"
   ]
  },
  {
   "cell_type": "markdown",
   "metadata": {},
   "source": [
    "# 6. [BÔNUS] Propor passos adicionais para melhorar os resultados encontrados"
   ]
  },
  {
   "cell_type": "markdown",
   "metadata": {},
   "source": [
    "Primeiramente, podemos realizar um melhor pre-processamento nos dados. Podemos remover todas pontuações do texto e remover espaços duplicados caso existam."
   ]
  },
  {
   "cell_type": "code",
   "execution_count": 47,
   "metadata": {},
   "outputs": [],
   "source": [
    "# X é um array com textos\n",
    "def preprocess(X):\n",
    "    X_processed = []\n",
    "    for string in X:\n",
    "        x_processed = string.lower() # lowercase\n",
    "        x_processed = re.sub('[^a-z\\s]+', ' ', string) # remove pontuações\n",
    "        x_processed = re.sub('(\\s+)', ' ', x_processed) # remove espaços duplicados\n",
    "        x_processed = re.sub(r'\\d+', '', x_processed) # remove números\n",
    "        X_processed.append(x_processed)\n",
    "    \n",
    "    return X_processed"
   ]
  },
  {
   "cell_type": "code",
   "execution_count": 48,
   "metadata": {},
   "outputs": [],
   "source": [
    "X_processed = preprocess(X)"
   ]
  },
  {
   "cell_type": "markdown",
   "metadata": {},
   "source": [
    "Outro pre-processammento que podemos fazer é remover stop_words, que são palavras como \"the, and, him\"."
   ]
  },
  {
   "cell_type": "code",
   "execution_count": 49,
   "metadata": {},
   "outputs": [],
   "source": [
    "new_count_vectorizer = CountVectorizer(stop_words='english')\n",
    "new_count_matrix = new_count_vectorizer.fit_transform(X_processed)\n",
    "new_count_vectorizer_X = new_count_matrix.toarray()"
   ]
  },
  {
   "cell_type": "code",
   "execution_count": 50,
   "metadata": {},
   "outputs": [
    {
     "data": {
      "text/plain": [
       "MultinomialNB()"
      ]
     },
     "execution_count": 50,
     "metadata": {},
     "output_type": "execute_result"
    }
   ],
   "source": [
    "X_train3, X_test3, y_train3, y_test3 = train_test_split(new_count_vectorizer_X, y, test_size=0.4, random_state=42)\n",
    "clf3 = MultinomialNB()\n",
    "clf3.fit(X_train3, y_train3)"
   ]
  },
  {
   "cell_type": "code",
   "execution_count": 51,
   "metadata": {},
   "outputs": [
    {
     "name": "stdout",
     "output_type": "stream",
     "text": [
      "Acurácia utilizando CountVectorizer:  0.9116022099447514\n"
     ]
    },
    {
     "data": {
      "image/png": "[encoded data removed]",
      "text/plain": [
       "<Figure size 432x288 with 2 Axes>"
      ]
     },
     "metadata": {
      "needs_background": "light"
     },
     "output_type": "display_data"
    }
   ],
   "source": [
    "y_pred3 = clf3.predict(X_test3)\n",
    "accuracy3 = accuracy_score(y_pred3, y_test3)\n",
    "cm3 = confusion_matrix(y_pred3, y_test3)\n",
    "\n",
    "print('Acurácia utilizando CountVectorizer: ', accuracy3)\n",
    "\n",
    "ax= plt.subplot()\n",
    "sns.heatmap(cm3, annot=True, ax=ax, fmt='g')\n",
    "ax.set_xlabel('Labels preditos')\n",
    "ax.set_ylabel('Labels verdadeiros')\n",
    "ax.set_title('Matriz de confusão utilizando CountVectorizer')\n",
    "ax.xaxis.set_ticklabels(['FAKE', 'REAL'])\n",
    "ax.yaxis.set_ticklabels(['REAL', 'FAKE'])\n",
    "plt.show()"
   ]
  },
  {
   "cell_type": "code",
   "execution_count": 52,
   "metadata": {},
   "outputs": [],
   "source": [
    "new_tfidf_vectorizer = TfidfVectorizer(stop_words='english')\n",
    "new_tfidf_matrix = new_tfidf_vectorizer.fit_transform(X_processed)\n",
    "new_tfidf_vectorizer_X = new_tfidf_matrix.toarray() # matriz vetorizada"
   ]
  },
  {
   "cell_type": "code",
   "execution_count": 54,
   "metadata": {},
   "outputs": [
    {
     "data": {
      "text/plain": [
       "MultinomialNB()"
      ]
     },
     "execution_count": 54,
     "metadata": {},
     "output_type": "execute_result"
    }
   ],
   "source": [
    "X_train4, X_test4, y_train4, y_test4 = train_test_split(new_tfidf_vectorizer_X, y, test_size=0.4, random_state=0)\n",
    "clf4 = MultinomialNB()\n",
    "clf4.fit(X_train4, y_train4)"
   ]
  },
  {
   "cell_type": "code",
   "execution_count": 55,
   "metadata": {},
   "outputs": [
    {
     "name": "stdout",
     "output_type": "stream",
     "text": [
      "Acurácia utilizando TfidfVectorizer:  0.8145224940805051\n"
     ]
    },
    {
     "data": {
      "image/png": "[encoded data removed]",
      "text/plain": [
       "<Figure size 432x288 with 2 Axes>"
      ]
     },
     "metadata": {
      "needs_background": "light"
     },
     "output_type": "display_data"
    }
   ],
   "source": [
    "y_pred4 = clf4.predict(X_test4)\n",
    "accuracy4 = accuracy_score(y_pred4, y_test4)\n",
    "cm4 = confusion_matrix(y_pred4, y_test4)\n",
    "\n",
    "print('Acurácia utilizando TfidfVectorizer: ', accuracy4)\n",
    "\n",
    "ax= plt.subplot()\n",
    "sns.heatmap(cm4, annot=True, ax=ax, fmt='g')\n",
    "ax.set_xlabel('Labels preditos')\n",
    "ax.set_ylabel('Labels verdadeiros')\n",
    "ax.set_title('Matriz de confusão utilizando TfidfVectorizer')\n",
    "ax.xaxis.set_ticklabels(['FAKE', 'REAL'])\n",
    "ax.yaxis.set_ticklabels(['REAL', 'FAKE'])\n",
    "plt.show()"
   ]
  },
  {
   "cell_type": "code",
   "execution_count": null,
   "metadata": {},
   "outputs": [],
   "source": []
  }
 ],
 "metadata": {
  "kernelspec": {
   "display_name": "Python 3",
   "language": "python",
   "name": "python3"
  },
  "language_info": {
   "codemirror_mode": {
    "name": "ipython",
    "version": 3
   },
   "file_extension": ".py",
   "mimetype": "text/x-python",
   "name": "python",
   "nbconvert_exporter": "python",
   "pygments_lexer": "ipython3",
   "version": "3.7.7"
  }
 },
 "nbformat": 4,
 "nbformat_minor": 4
}
