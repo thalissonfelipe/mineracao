{
 "cells": [
  {
   "cell_type": "markdown",
   "metadata": {},
   "source": [
    "## Implementação de um Classificador Perceptron"
   ]
  },
  {
   "cell_type": "code",
   "execution_count": 38,
   "metadata": {},
   "outputs": [],
   "source": [
    "import pandas as pd\n",
    "import numpy as np\n",
    "import random\n",
    "import math\n",
    "import matplotlib.pyplot as plt"
   ]
  },
  {
   "cell_type": "code",
   "execution_count": 39,
   "metadata": {},
   "outputs": [],
   "source": [
    "class Perceptron(object):\n",
    "    \"\"\"Perceptron classifier.\n",
    "\n",
    "    Parameters\n",
    "    ------------\n",
    "    eta : float\n",
    "      Learning rate (between 0.0 and 1.0)\n",
    "    n_iter : int\n",
    "      Passes over the training dataset.\n",
    "    random_state : int\n",
    "      Random number generator seed for random weight\n",
    "      initialization.\n",
    "\n",
    "    Attributes\n",
    "    -----------\n",
    "    w_ : 1d-array\n",
    "      Weights after fitting.\n",
    "    errors_ : list\n",
    "      Number of misclassifications (updates) in each epoch.\n",
    "\n",
    "    \"\"\"\n",
    "    def __init__(self, eta=0.01, n_iter=50, random_state=1):\n",
    "        self.eta = eta\n",
    "        self.n_iter = n_iter\n",
    "        self.random_state = random_state\n",
    "\n",
    "    def fit(self, X, y):\n",
    "        \"\"\"Fit training data.\n",
    "\n",
    "        Parameters\n",
    "        ----------\n",
    "        X : {array-like}, shape = [n_examples, n_features]\n",
    "          Training vectors, where n_examples is the number of examples and\n",
    "          n_features is the number of features.\n",
    "        y : array-like, shape = [n_examples]\n",
    "          Target values.\n",
    "\n",
    "        Returns\n",
    "        -------\n",
    "        self : object\n",
    "\n",
    "        \"\"\"\n",
    "        rgen = np.random.RandomState(self.random_state)\n",
    "        self.w_ = rgen.normal(loc=0.0, scale=0.01, size=1 + X.shape[1])\n",
    "        self.errors_ = []\n",
    "\n",
    "        for _ in range(self.n_iter):\n",
    "            errors = 0\n",
    "            for xi, target in zip(X, y):\n",
    "                # target - self.predict(xi) -> error\n",
    "                update = self.eta * (target - self.predict(xi))\n",
    "                self.w_[1:] += update * xi\n",
    "                self.w_[0] += update\n",
    "                errors += int(update != 0.0)\n",
    "            self.errors_.append(errors)\n",
    "        return self\n",
    "\n",
    "    def net_input(self, X):\n",
    "        \"\"\"Calculate net input\"\"\"\n",
    "        return np.dot(X, self.w_[1:]) + self.w_[0]\n",
    "\n",
    "    def predict(self, X):\n",
    "        \"\"\"Return class label after unit step\"\"\"\n",
    "        return np.where(self.net_input(X) >= 0.0, 1, -1)"
   ]
  },
  {
   "cell_type": "markdown",
   "metadata": {},
   "source": [
    "## Testando o classificador Perceptron"
   ]
  },
  {
   "cell_type": "code",
   "execution_count": 40,
   "metadata": {
    "scrolled": true
   },
   "outputs": [
    {
     "name": "stdout",
     "output_type": "stream",
     "text": [
      "Resultado da Predição [-1  1 -1]\n"
     ]
    }
   ],
   "source": [
    "\"\"\"Dados de Treinamento \"\"\"\n",
    "X = np.array([[1,1],[2,2],[3,3]])\n",
    "y = np.array([1,1,-1])\n",
    "\n",
    "\"\"\"Criando objeto Perceptron\"\"\"\n",
    "ppn = Perceptron(eta=0.1, n_iter=100)\n",
    "\n",
    "\"\"\"Treinando o modelo\"\"\"\n",
    "ppn.fit(X, y)\n",
    "\n",
    "\"\"\"Testando modelo treinado \"\"\"\n",
    "X_newdata = np.array([[4,4],[2,2],[3,3]])\n",
    "print(\"Resultado da Predição\",ppn.predict(X_newdata));"
   ]
  },
  {
   "cell_type": "markdown",
   "metadata": {},
   "source": [
    "## Questao 1 - Implemente uma função para calcular a acurácia do modelo"
   ]
  },
  {
   "cell_type": "code",
   "execution_count": 41,
   "metadata": {},
   "outputs": [],
   "source": [
    "def accuracy(y_pred, y_true):\n",
    "    total = len(y_pred)\n",
    "    matches = np.sum(y_pred == y_true)\n",
    "    \n",
    "    return matches / total"
   ]
  },
  {
   "cell_type": "markdown",
   "metadata": {},
   "source": [
    "## Questao 2 - Implemente um método de validação cruzada para testar "
   ]
  },
  {
   "cell_type": "code",
   "execution_count": 54,
   "metadata": {},
   "outputs": [],
   "source": [
    "# Implementar um método de validação cruzada: testar a acurácia média, dado um conjunto de dados de teste.\n",
    "\n",
    "def train_test_split(train, test):\n",
    "    X_train = np.array([tr['X'].values.tolist()[0] for tr in train])\n",
    "    y_train = np.array([tr['y'].values[0] for tr in train])\n",
    "\n",
    "    X_test = np.array(test['X'].values.tolist())\n",
    "    y_test = np.array(test['y'].values)\n",
    "        \n",
    "    return (X_train, y_train, X_test, y_test)\n",
    "\n",
    "def cross_validation(dataset, n_folds=10, shuffle=False):\n",
    "    accs = []\n",
    "\n",
    "    if shuffle:\n",
    "        dataset = dataset.reindex(np.random.permutation(dataset.index))\n",
    "   \n",
    "    # separado em n folds\n",
    "    step =  math.floor(len(dataset) / n_folds)\n",
    "    folds = []\n",
    "    i = 0\n",
    "    for _ in range(n_folds):\n",
    "        folds.append(dataset[i:i+step])\n",
    "        i += step\n",
    "    \n",
    "    folds_aux = folds.copy()\n",
    "    for i, fold in enumerate(folds):\n",
    "        test = folds_aux.pop(i)\n",
    "        train = folds_aux\n",
    "        \n",
    "        X_train, y_train, X_test, y_test = train_test_split(train, test)\n",
    "        \n",
    "        ppn.fit(X_train, y_train)\n",
    "        y_pred = ppn.predict(X_test)\n",
    "        accs.append(accuracy(y_pred, y_test))\n",
    "        \n",
    "        folds_aux.insert(i, fold)\n",
    "    \n",
    "    return np.mean(accs)"
   ]
  },
  {
   "cell_type": "code",
   "execution_count": 55,
   "metadata": {},
   "outputs": [
    {
     "data": {
      "text/plain": [
       "0.5"
      ]
     },
     "execution_count": 55,
     "metadata": {},
     "output_type": "execute_result"
    }
   ],
   "source": [
    "ppn = Perceptron(eta=0.1, n_iter=100)\n",
    "dataset = pd.DataFrame({'X': [[1, 2], [3, 4], [5, 6], [1, 1], [2, 2], [3, 2], [2, 1]], 'y': [0, 1, 0, 1, 1, 0, 1]})\n",
    "cross_validation(dataset, n_folds=4, shuffle=False)"
   ]
  },
  {
   "cell_type": "markdown",
   "metadata": {},
   "source": [
    "## Teste o classificador usando um conjunto de dados linearmente separável e outro não linearmente separável\n",
    "### Sugestão: crie datasets sintéticos com apenas dois atributos para voce poder visualizar a separação das classes"
   ]
  },
  {
   "cell_type": "code",
   "execution_count": 110,
   "metadata": {
    "scrolled": true
   },
   "outputs": [],
   "source": [
    "def generate_data(n_samples, linear=False):\n",
    "    random_x = np.arange(0, 10)\n",
    "    random_y = [0, -1]\n",
    "\n",
    "    X, y = [], []\n",
    "    for _ in range(n_samples):\n",
    "        X.append([random.choice(random_x), random.choice(random_x)])\n",
    "        if linear:\n",
    "            if X[-1][0] >= 5:\n",
    "                y.append(random_y[1])\n",
    "            else:\n",
    "                y.append(random_y[0])\n",
    "        else:\n",
    "            y.append(random.choice(random_y))\n",
    "\n",
    "    return np.array(X), np.array(y)"
   ]
  },
  {
   "cell_type": "code",
   "execution_count": 111,
   "metadata": {},
   "outputs": [],
   "source": [
    "def plot(X, y):\n",
    "    reds, blues = [], []\n",
    "    for x, y in zip(X, y):\n",
    "        if y:\n",
    "            reds.append(x)\n",
    "        else:\n",
    "            blues.append(x)\n",
    "\n",
    "    transpose_reds = np.transpose(reds)\n",
    "    transpose_blues = np.transpose(blues)\n",
    "    \n",
    "    plt.scatter(transpose_reds[0], transpose_reds[1], c='red')\n",
    "    plt.scatter(transpose_blues[0], transpose_blues[1], c='blue')\n",
    "    plt.show()"
   ]
  },
  {
   "cell_type": "code",
   "execution_count": 112,
   "metadata": {},
   "outputs": [
    {
     "name": "stdout",
     "output_type": "stream",
     "text": [
      "[-1]\n"
     ]
    },
    {
     "data": {
      "image/png": "[encoded data removed]",
      "text/plain": [
       "<Figure size 432x288 with 1 Axes>"
      ]
     },
     "metadata": {
      "needs_background": "light"
     },
     "output_type": "display_data"
    }
   ],
   "source": [
    "# Não linear\n",
    "X, y = generate_data(100)\n",
    "p = Perceptron(eta=0.5, n_iter=100)\n",
    "p.fit(X, y)\n",
    "y_pred = p.predict([[4, 7]])\n",
    "print(y_pred)\n",
    "plot(X, y)"
   ]
  },
  {
   "cell_type": "code",
   "execution_count": 115,
   "metadata": {},
   "outputs": [
    {
     "name": "stdout",
     "output_type": "stream",
     "text": [
      "[1]\n"
     ]
    },
    {
     "data": {
      "image/png": "[encoded data removed]",
      "text/plain": [
       "<Figure size 432x288 with 1 Axes>"
      ]
     },
     "metadata": {
      "needs_background": "light"
     },
     "output_type": "display_data"
    }
   ],
   "source": [
    "# Linear\n",
    "Xl, yl = generate_data(100, linear=True)\n",
    "p = Perceptron(eta=0.5, n_iter=100)\n",
    "p.fit(Xl, yl)\n",
    "yl_pred = p.predict([[6, 5]])\n",
    "print(yl_pred)\n",
    "plot(Xl, yl)"
   ]
  },
  {
   "cell_type": "code",
   "execution_count": 91,
   "metadata": {},
   "outputs": [
    {
     "data": {
      "text/plain": [
       "array([1])"
      ]
     },
     "execution_count": 91,
     "metadata": {},
     "output_type": "execute_result"
    }
   ],
   "source": [
    "p = Perceptron(eta=0.5, n_iter=10)\n",
    "p.fit(X_train, y_train)\n",
    "p.predict([[4, 7]])"
   ]
  },
  {
   "cell_type": "markdown",
   "metadata": {},
   "source": [
    "## Questao 3 - Treine um classificador perceptron para os dados de seu estudo de caso"
   ]
  },
  {
   "cell_type": "code",
   "execution_count": null,
   "metadata": {},
   "outputs": [],
   "source": []
  }
 ],
 "metadata": {
  "kernelspec": {
   "display_name": "Python 3",
   "language": "python",
   "name": "python3"
  },
  "language_info": {
   "codemirror_mode": {
    "name": "ipython",
    "version": 3
   },
   "file_extension": ".py",
   "mimetype": "text/x-python",
   "name": "python",
   "nbconvert_exporter": "python",
   "pygments_lexer": "ipython3",
   "version": "3.7.7"
  }
 },
 "nbformat": 4,
 "nbformat_minor": 4
}
